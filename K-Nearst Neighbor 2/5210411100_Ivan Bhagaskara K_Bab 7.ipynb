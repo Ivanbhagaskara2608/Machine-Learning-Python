{
  "nbformat": 4,
  "nbformat_minor": 0,
  "metadata": {
    "colab": {
      "provenance": []
    },
    "kernelspec": {
      "name": "python3",
      "display_name": "Python 3"
    },
    "language_info": {
      "name": "python"
    }
  },
  "cells": [
    {
      "cell_type": "markdown",
      "source": [
        "# Mengimport library Pandas dan membaca file csv"
      ],
      "metadata": {
        "id": "rGUG7_O3CNep"
      }
    },
    {
      "cell_type": "code",
      "execution_count": 2,
      "metadata": {
        "id": "PyyidIeFB7Qs"
      },
      "outputs": [],
      "source": [
        "import pandas as pd\n",
        "dataku = pd.read_csv('cuaca.csv')"
      ]
    },
    {
      "cell_type": "markdown",
      "source": [
        "# Menampilkan dimensi/ukuran dataset"
      ],
      "metadata": {
        "id": "D9deMMC_DEUy"
      }
    },
    {
      "cell_type": "code",
      "source": [
        "print(\"Ukuran : \", dataku.shape)"
      ],
      "metadata": {
        "colab": {
          "base_uri": "https://localhost:8080/"
        },
        "id": "p8Xfw6G_DMTL",
        "outputId": "1b8b54af-c50f-4332-db9a-51ae8a033913"
      },
      "execution_count": 3,
      "outputs": [
        {
          "output_type": "stream",
          "name": "stdout",
          "text": [
            "Ukuran :  (14, 5)\n"
          ]
        }
      ]
    },
    {
      "cell_type": "markdown",
      "source": [
        "# Menampilkan nama semua kolom dataset"
      ],
      "metadata": {
        "id": "_nEWT-d6DOfK"
      }
    },
    {
      "cell_type": "code",
      "source": [
        "print(\"\\nFeatures : \", dataku.columns)"
      ],
      "metadata": {
        "colab": {
          "base_uri": "https://localhost:8080/"
        },
        "id": "vZZHEM2wDX3t",
        "outputId": "5dd95ccd-df7d-4a57-8fd4-54d3d410b6ab"
      },
      "execution_count": 4,
      "outputs": [
        {
          "output_type": "stream",
          "name": "stdout",
          "text": [
            "\n",
            "Features :  Index(['cuaca1', 'suhu', 'kelembaban', 'angin', 'main'], dtype='object')\n"
          ]
        }
      ]
    },
    {
      "cell_type": "markdown",
      "source": [
        "# Menyimpan data fitur pada variabel X dan data target pada variabel Y"
      ],
      "metadata": {
        "id": "cPz7SQhtDkWM"
      }
    },
    {
      "cell_type": "code",
      "source": [
        "x = dataku[dataku.columns[:-1]]\n",
        "y = dataku[dataku.columns[-1]]"
      ],
      "metadata": {
        "id": "1NWdqSiIDwoh"
      },
      "execution_count": 5,
      "outputs": []
    },
    {
      "cell_type": "markdown",
      "source": [
        "# Menampilkan isi dataset cuaca"
      ],
      "metadata": {
        "id": "Blv-sxbME3UP"
      }
    },
    {
      "cell_type": "code",
      "source": [
        "print(\"\\nFeature matrix : \\n\", x)\n",
        "print(\"\\nResponse vector : \\n\", y)"
      ],
      "metadata": {
        "colab": {
          "base_uri": "https://localhost:8080/"
        },
        "id": "jhZl4155E9si",
        "outputId": "807e584f-a80d-4df9-d7db-c05cc8e5e0c8"
      },
      "execution_count": 6,
      "outputs": [
        {
          "output_type": "stream",
          "name": "stdout",
          "text": [
            "\n",
            "Feature matrix : \n",
            "       cuaca1  suhu kelembaban  angin\n",
            "0   overcast   hot       high  False\n",
            "1   overcast  cool     normal   True\n",
            "2   overcast  mild       high   True\n",
            "3   overcast   hot     normal  False\n",
            "4     rainly  mild       high  False\n",
            "5     rainly  cool     normal  False\n",
            "6     rainly  cool     normal   True\n",
            "7     rainly  mild     normal  False\n",
            "8     rainly  mild       high   True\n",
            "9      sunny   hot       high  False\n",
            "10     sunny   hot       high   True\n",
            "11     sunny  mild       high  False\n",
            "12     sunny  cool     normal  False\n",
            "13     sunny  mild     normal   True\n",
            "\n",
            "Response vector : \n",
            " 0     yes\n",
            "1     yes\n",
            "2     yes\n",
            "3     yes\n",
            "4     yes\n",
            "5     yes\n",
            "6      no\n",
            "7     yes\n",
            "8      no\n",
            "9      no\n",
            "10     no\n",
            "11     no\n",
            "12    yes\n",
            "13    yes\n",
            "Name: main, dtype: object\n"
          ]
        }
      ]
    },
    {
      "cell_type": "markdown",
      "source": [
        "# Menampilkan 7 baris terakhir dataset cuaca"
      ],
      "metadata": {
        "id": "vDvvAHh_FXb8"
      }
    },
    {
      "cell_type": "code",
      "source": [
        "print(\"\\nFeature matrix : \\n\", x.tail(7))\n",
        "print(\"\\nResponse vector : \\n\", y.tail(7))"
      ],
      "metadata": {
        "colab": {
          "base_uri": "https://localhost:8080/"
        },
        "id": "8kruTjxKFfRx",
        "outputId": "cda2e00d-97f9-410b-8d51-c29c9891c86f"
      },
      "execution_count": 7,
      "outputs": [
        {
          "output_type": "stream",
          "name": "stdout",
          "text": [
            "\n",
            "Feature matrix : \n",
            "     cuaca1  suhu kelembaban  angin\n",
            "7   rainly  mild     normal  False\n",
            "8   rainly  mild       high   True\n",
            "9    sunny   hot       high  False\n",
            "10   sunny   hot       high   True\n",
            "11   sunny  mild       high  False\n",
            "12   sunny  cool     normal  False\n",
            "13   sunny  mild     normal   True\n",
            "\n",
            "Response vector : \n",
            " 7     yes\n",
            "8      no\n",
            "9      no\n",
            "10     no\n",
            "11     no\n",
            "12    yes\n",
            "13    yes\n",
            "Name: main, dtype: object\n"
          ]
        }
      ]
    },
    {
      "cell_type": "markdown",
      "source": [
        "# Melakukan prediksi menggunakan KNN dengan K = 2"
      ],
      "metadata": {
        "id": "gL6_rUI3Ft6B"
      }
    },
    {
      "cell_type": "code",
      "source": [
        "from sklearn.neighbors import KNeighborsClassifier\n",
        "from sklearn.preprocessing import OneHotEncoder\n",
        "from sklearn.preprocessing import LabelEncoder\n",
        "\n",
        "knn = KNeighborsClassifier(n_neighbors=2, metric='euclidean')\n",
        "ohe = OneHotEncoder()\n",
        "le = LabelEncoder()\n",
        "dataku['kelembaban'] = le.fit_transform(dataku['kelembaban'])\n",
        "dataku['angin'] = le.fit_transform(dataku['angin'])\n",
        "\n",
        "dataku_encoded = pd.DataFrame(\n",
        "    ohe.fit_transform(dataku[['cuaca1','suhu']]).toarray(),\n",
        "    columns=['overcast','rainy','sunny','cool','hot','mild']\n",
        ")\n",
        "\n",
        "dataku_final = pd.concat([dataku_encoded, dataku['kelembaban'], dataku['angin'], dataku['main']], axis=1)\n",
        "x = dataku_final.drop(['main'], axis=1)\n",
        "y = dataku_final['main']\n",
        "knn.fit(x, y)\n",
        "dataLatih = [[1,0,0,1,0,0,0,1]]\n",
        "distances, indices = knn.kneighbors(dataLatih)\n",
        "for i in range(len(dataLatih)):\n",
        "  print(f'Data Latih : {dataLatih[i]}')\n",
        "  for j in range(len(distances[i])):\n",
        "    idx = indices[i][j]\n",
        "    print(f'Ranking ke-{j+1}: Jarak = {distances[i][j]}, Main = {y.loc[idx]}')"
      ],
      "metadata": {
        "colab": {
          "base_uri": "https://localhost:8080/"
        },
        "id": "Ok8u75tRF1Je",
        "outputId": "99a10dcb-1212-4275-8ed7-5140e3d881e7"
      },
      "execution_count": 14,
      "outputs": [
        {
          "output_type": "stream",
          "name": "stdout",
          "text": [
            "Data Latih : [1, 0, 0, 1, 0, 0, 0, 1]\n",
            "Ranking ke-1: Jarak = 1.0, Main = yes\n",
            "Ranking ke-2: Jarak = 1.4142135623730951, Main = yes\n"
          ]
        },
        {
          "output_type": "stream",
          "name": "stderr",
          "text": [
            "/usr/local/lib/python3.9/dist-packages/sklearn/base.py:439: UserWarning: X does not have valid feature names, but KNeighborsClassifier was fitted with feature names\n",
            "  warnings.warn(\n"
          ]
        }
      ]
    },
    {
      "cell_type": "markdown",
      "source": [
        "# Merubah nilai K dan melihat perbandingan akurasinya"
      ],
      "metadata": {
        "id": "l76IEOq3W8RV"
      }
    },
    {
      "cell_type": "code",
      "source": [
        "from sklearn.neighbors import KNeighborsClassifier\n",
        "\n",
        "k = [5, 7, 10]\n",
        "for i in k:\n",
        "    knn = KNeighborsClassifier(n_neighbors=i, metric='euclidean')\n",
        "\n",
        "    knn.fit(x, y)\n",
        "\n",
        "    akurasi = knn.score(x, y)\n",
        "\n",
        "    print(f\"Akurasi model KNN K:{i} = {akurasi}\")"
      ],
      "metadata": {
        "colab": {
          "base_uri": "https://localhost:8080/"
        },
        "id": "Av3pt7baXIFa",
        "outputId": "ce88cff3-3392-4684-cc94-8534f52b453c"
      },
      "execution_count": 18,
      "outputs": [
        {
          "output_type": "stream",
          "name": "stdout",
          "text": [
            "Akurasi model KNN K:5 = 0.7857142857142857\n",
            "Akurasi model KNN K:7 = 0.6428571428571429\n",
            "Akurasi model KNN K:10 = 0.7142857142857143\n"
          ]
        }
      ]
    }
  ]
}