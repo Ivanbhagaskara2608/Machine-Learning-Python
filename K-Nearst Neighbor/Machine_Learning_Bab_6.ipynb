{
  "nbformat": 4,
  "nbformat_minor": 0,
  "metadata": {
    "colab": {
      "provenance": []
    },
    "kernelspec": {
      "name": "python3",
      "display_name": "Python 3"
    },
    "language_info": {
      "name": "python"
    }
  },
  "cells": [
    {
      "cell_type": "code",
      "execution_count": 14,
      "metadata": {
        "colab": {
          "base_uri": "https://localhost:8080/"
        },
        "id": "ACpvv18KqhQV",
        "outputId": "fcabe262-dea3-407c-e11a-80283c5b2ca8"
      },
      "outputs": [
        {
          "output_type": "stream",
          "name": "stdout",
          "text": [
            "Feature names : ['sepal length (cm)', 'sepal width (cm)', 'petal length (cm)', 'petal width (cm)']\n",
            "Target names : ['setosa' 'versicolor' 'virginica']\n",
            "\n",
            " Type of X is :  <class 'numpy.ndarray'>\n",
            "\n",
            " First 5 rows of x: \n",
            " [[5.1 3.5 1.4 0.2]\n",
            " [4.9 3.  1.4 0.2]\n",
            " [4.7 3.2 1.3 0.2]\n",
            " [4.6 3.1 1.5 0.2]\n",
            " [5.  3.6 1.4 0.2]]\n",
            "(90, 4)\n",
            "(60, 4)\n",
            "(90,)\n",
            "(60,)\n",
            "Prediksi : ['setosa', 'versicolor', 'versicolor', 'setosa', 'virginica', 'versicolor', 'virginica', 'setosa', 'setosa', 'virginica', 'versicolor', 'setosa', 'virginica', 'versicolor', 'versicolor', 'setosa', 'versicolor', 'versicolor', 'setosa', 'setosa', 'versicolor', 'versicolor', 'virginica', 'setosa', 'virginica', 'versicolor', 'setosa', 'setosa', 'versicolor', 'virginica', 'versicolor', 'virginica', 'versicolor', 'virginica', 'virginica', 'setosa', 'versicolor', 'setosa', 'versicolor', 'virginica', 'virginica', 'setosa', 'virginica', 'virginica', 'versicolor', 'virginica', 'setosa', 'setosa', 'setosa', 'versicolor', 'setosa', 'setosa', 'virginica', 'virginica', 'virginica', 'virginica', 'virginica', 'versicolor', 'virginica', 'versicolor']\n",
            "Akurasi model KNN : 0.9833333333333333\n",
            "Prediksi : ['versicolor', 'virginica']\n"
          ]
        },
        {
          "output_type": "execute_result",
          "data": {
            "text/plain": [
              "['iris_knn.pkl']"
            ]
          },
          "metadata": {},
          "execution_count": 14
        }
      ],
      "source": [
        "# Memanggil dataset iris\n",
        "from sklearn.datasets import load_iris\n",
        "iris_ku = load_iris()\n",
        "\n",
        "# simpan data fitur/kolom (x) dan target (y)\n",
        "x = iris_ku.data\n",
        "y = iris_ku.target\n",
        "\n",
        "# simpan nama fitur/kolom (x) dan target (y)\n",
        "feature_names = iris_ku.feature_names\n",
        "target_names = iris_ku.target_names\n",
        "\n",
        "# tampil nama fitur dan target data set\n",
        "print(\"Feature names :\", feature_names)\n",
        "print(\"Target names :\", target_names)\n",
        "\n",
        "# x dan y adalah numpy arrays\n",
        "print(\"\\n Type of X is : \", type(x))\n",
        "\n",
        "# tampilkan 5 baris pertama\n",
        "print(\"\\n First 5 rows of x: \\n\", x[:5])\n",
        "\n",
        "# fitur (x) and target (y)\n",
        "x = iris_ku.data\n",
        "y = iris_ku.target\n",
        "\n",
        "# splitting x dan y untuk data latih dan uji\n",
        "from sklearn.model_selection import train_test_split \n",
        "x_latih, x_tes, y_latih, y_tes = train_test_split(x, y, test_size=0.4, random_state=1)\n",
        "\n",
        "# tampilkan data fitur latih dan uji\n",
        "print(x_latih.shape)\n",
        "print(x_tes.shape)\n",
        "\n",
        "# tampilkan data target latih dan uji\n",
        "print(y_latih.shape)\n",
        "print(y_tes.shape)\n",
        "\n",
        "# pelatihan pada data latih menggunakan KNN (k=3)\n",
        "from sklearn.neighbors import KNeighborsClassifier\n",
        "knn = KNeighborsClassifier(n_neighbors=7)\n",
        "knn.fit(x_latih, y_latih)\n",
        "\n",
        "# melakukan  prediksi pada data uji\n",
        "y_prediksi = knn.predict(x_tes)\n",
        "pred_species2 = [iris_ku.target_names[p] for p in y_prediksi]\n",
        "print(\"Prediksi :\", pred_species2)\n",
        "\n",
        "# perbandingan nilai aktual (y_tes) dengan nilai prediksi (y_prediksi)\n",
        "from sklearn import metrics\n",
        "print(\"Akurasi model KNN :\", metrics.accuracy_score(y_tes, y_prediksi))\n",
        "\n",
        "# prediksi menggunakan data sample buatan sendiri\n",
        "contoh = [[3,5,4,2], [2,3,5,4]]\n",
        "preds = knn.predict(contoh)\n",
        "pred_species = [iris_ku.target_names[p] for p in preds]\n",
        "print(\"Prediksi :\", pred_species)\n",
        "\n",
        "# saving the model\n",
        "import joblib\n",
        "joblib.dump(knn, 'iris_knn.pkl')"
      ]
    },
    {
      "cell_type": "code",
      "source": [
        "# Memanggil dataset iris\n",
        "from sklearn.datasets import load_iris\n",
        "iris_ku = load_iris()\n",
        "\n",
        "# simpan data fitur/kolom (x) dan target (y)\n",
        "x = iris_ku.data\n",
        "y = iris_ku.target\n",
        "\n",
        "# fitur (x) and target (y)\n",
        "x = iris_ku.data\n",
        "y = iris_ku.target\n",
        "\n",
        "# splitting x dan y untuk data latih dan uji\n",
        "from sklearn.model_selection import train_test_split \n",
        "x_latih, x_tes, y_latih, y_tes = train_test_split(x, y, test_size=0.4, random_state=1)\n",
        "\n",
        "# pelatihan pada data latih menggunakan KNN (k=3)\n",
        "from sklearn.neighbors import KNeighborsClassifier\n",
        "knn = KNeighborsClassifier(n_neighbors=3)\n",
        "knn.fit(x_latih, y_latih)\n",
        "\n",
        "# melakukan  prediksi pada data uji\n",
        "y_prediksi = knn.predict(x_tes)\n",
        "pred_species2 = [iris_ku.target_names[p] for p in y_prediksi]\n",
        "print(\"Prediksi :\", pred_species2)\n",
        "\n",
        "from sklearn import metrics\n",
        "print(\"Akurasi model KNN :\", metrics.accuracy_score(y_tes, y_prediksi))"
      ],
      "metadata": {
        "colab": {
          "base_uri": "https://localhost:8080/"
        },
        "id": "rI2xWRaRGVCs",
        "outputId": "c6bcd3c5-edc7-4183-82c4-9f818cb30ebf"
      },
      "execution_count": 15,
      "outputs": [
        {
          "output_type": "stream",
          "name": "stdout",
          "text": [
            "Prediksi : ['setosa', 'versicolor', 'versicolor', 'setosa', 'virginica', 'versicolor', 'virginica', 'setosa', 'setosa', 'virginica', 'versicolor', 'setosa', 'virginica', 'versicolor', 'versicolor', 'setosa', 'versicolor', 'versicolor', 'setosa', 'setosa', 'versicolor', 'versicolor', 'versicolor', 'setosa', 'virginica', 'versicolor', 'setosa', 'setosa', 'versicolor', 'virginica', 'versicolor', 'virginica', 'versicolor', 'virginica', 'virginica', 'setosa', 'versicolor', 'setosa', 'versicolor', 'virginica', 'virginica', 'setosa', 'versicolor', 'virginica', 'versicolor', 'virginica', 'setosa', 'setosa', 'setosa', 'versicolor', 'setosa', 'setosa', 'virginica', 'virginica', 'virginica', 'virginica', 'virginica', 'versicolor', 'virginica', 'versicolor']\n",
            "Akurasi model KNN : 0.9833333333333333\n"
          ]
        }
      ]
    },
    {
      "cell_type": "code",
      "source": [
        "# Memanggil dataset iris\n",
        "from sklearn.datasets import load_iris\n",
        "iris_ku = load_iris()\n",
        "\n",
        "# simpan data fitur/kolom (x) dan target (y)\n",
        "x = iris_ku.data\n",
        "y = iris_ku.target\n",
        "\n",
        "# fitur (x) and target (y)\n",
        "x = iris_ku.data\n",
        "y = iris_ku.target\n",
        "\n",
        "# splitting x dan y untuk data latih dan uji\n",
        "from sklearn.model_selection import train_test_split \n",
        "x_latih, x_tes, y_latih, y_tes = train_test_split(x, y, test_size=0.4, random_state=1)\n",
        "\n",
        "# pelatihan pada data latih menggunakan KNN (k=5,7,10,21)\n",
        "from sklearn.neighbors import KNeighborsClassifier\n",
        "k = [5, 7, 10, 21]\n",
        "for i in k:\n",
        "    knn = KNeighborsClassifier(n_neighbors=i)\n",
        "\n",
        "    knn.fit(x, y)\n",
        "\n",
        "    akurasi = knn.score(x_tes, y_tes)\n",
        "\n",
        "    print(f\"Akurasi model KNN K:{i} = {akurasi}\")"
      ],
      "metadata": {
        "colab": {
          "base_uri": "https://localhost:8080/"
        },
        "id": "TS_5hJDY29Ll",
        "outputId": "3df06561-5ccf-40b8-d814-7d3d4f90cd5b"
      },
      "execution_count": 16,
      "outputs": [
        {
          "output_type": "stream",
          "name": "stdout",
          "text": [
            "Akurasi model KNN K:5 = 0.9833333333333333\n",
            "Akurasi model KNN K:7 = 1.0\n",
            "Akurasi model KNN K:10 = 1.0\n",
            "Akurasi model KNN K:21 = 0.9833333333333333\n"
          ]
        }
      ]
    },
    {
      "cell_type": "markdown",
      "source": [
        "## **Rumus Manhattan**"
      ],
      "metadata": {
        "id": "Vq1OiHoS-FL3"
      }
    },
    {
      "cell_type": "code",
      "source": [
        "from sklearn.neighbors import KNeighborsClassifier\n",
        "import pandas as pd\n",
        "predikat = pd.read_csv(\"Lokasi.csv\")\n",
        "x = predikat.drop([\"Rumah\", \"Lokasi\"], axis=1)\n",
        "y = predikat[\"Lokasi\"]\n",
        "# Membuat KNN Classifier\n",
        "knn = KNeighborsClassifier(n_neighbors=3, metric='manhattan')\n",
        "\n",
        "# Menguji model menggunakan data training \n",
        "knn.fit(x, y)\n",
        "\n",
        "dataLatih = [[10, 15]]\n",
        "prediction = knn.predict(dataLatih)\n",
        "distances, indices = knn.kneighbors(dataLatih)\n",
        "for i in range(len(dataLatih)):\n",
        "    print(f\"Data baru: {dataLatih[i]}\")\n",
        "    for j in range(len(distances[i])):\n",
        "        idx = indices[i][j]\n",
        "        print(f\"Ranking ke-{j+1}: Jarak = {distances[i][j]}, Rumah = {predikat.loc[idx,'Rumah']}, Data = {y.loc[idx]}\")"
      ],
      "metadata": {
        "colab": {
          "base_uri": "https://localhost:8080/"
        },
        "id": "xK0lLAGc7eZN",
        "outputId": "2a80feeb-0b14-4b24-a04e-9a0c16d5c9ea"
      },
      "execution_count": 17,
      "outputs": [
        {
          "output_type": "stream",
          "name": "stdout",
          "text": [
            "Data baru: [10, 15]\n",
            "Ranking ke-1: Jarak = 12.0, Rumah = A, Data = Kota\n",
            "Ranking ke-2: Jarak = 17.0, Rumah = E, Data = Kota\n",
            "Ranking ke-3: Jarak = 19.0, Rumah = B, Data = Kota\n"
          ]
        },
        {
          "output_type": "stream",
          "name": "stderr",
          "text": [
            "/usr/local/lib/python3.9/dist-packages/sklearn/base.py:439: UserWarning: X does not have valid feature names, but KNeighborsClassifier was fitted with feature names\n",
            "  warnings.warn(\n",
            "/usr/local/lib/python3.9/dist-packages/sklearn/base.py:439: UserWarning: X does not have valid feature names, but KNeighborsClassifier was fitted with feature names\n",
            "  warnings.warn(\n"
          ]
        }
      ]
    },
    {
      "cell_type": "markdown",
      "source": [
        "# **Rumus Minkowski**"
      ],
      "metadata": {
        "id": "KV1ji_NzoHOc"
      }
    },
    {
      "cell_type": "code",
      "source": [
        "from sklearn.neighbors import KNeighborsClassifier\n",
        "import pandas as pd\n",
        "predikat = pd.read_csv(\"Lokasi.csv\")\n",
        "x = predikat.drop([\"Rumah\", \"Lokasi\"], axis=1)\n",
        "y = predikat[\"Lokasi\"]\n",
        "# Membuat KNN Classifier\n",
        "knn = KNeighborsClassifier(n_neighbors=3, metric='minkowski')\n",
        "\n",
        "# Menguji model menggunakan data training \n",
        "knn.fit(x, y)\n",
        "\n",
        "dataLatih = [[10, 15]]\n",
        "prediction = knn.predict(dataLatih)\n",
        "distances, indices = knn.kneighbors(dataLatih)\n",
        "for i in range(len(dataLatih)):\n",
        "    print(f\"Data baru: {dataLatih[i]}\")\n",
        "    for j in range(len(distances[i])):\n",
        "        idx = indices[i][j]\n",
        "        print(f\"Ranking ke-{j+1}: Jarak = {distances[i][j]}, Rumah = {predikat.loc[idx,'Rumah']}, Data = {y.loc[idx]}\")"
      ],
      "metadata": {
        "colab": {
          "base_uri": "https://localhost:8080/"
        },
        "id": "8GHG9wiy_tJ1",
        "outputId": "6a1133bb-edc0-4533-b0aa-8236b088e07c"
      },
      "execution_count": 18,
      "outputs": [
        {
          "output_type": "stream",
          "name": "stdout",
          "text": [
            "Data baru: [10, 15]\n",
            "Ranking ke-1: Jarak = 11.045361017187261, Rumah = A, Data = Kota\n",
            "Ranking ke-2: Jarak = 12.529964086141668, Rumah = E, Data = Kota\n",
            "Ranking ke-3: Jarak = 14.212670403551895, Rumah = H, Data = Kabupaten\n"
          ]
        },
        {
          "output_type": "stream",
          "name": "stderr",
          "text": [
            "/usr/local/lib/python3.9/dist-packages/sklearn/base.py:439: UserWarning: X does not have valid feature names, but KNeighborsClassifier was fitted with feature names\n",
            "  warnings.warn(\n",
            "/usr/local/lib/python3.9/dist-packages/sklearn/base.py:439: UserWarning: X does not have valid feature names, but KNeighborsClassifier was fitted with feature names\n",
            "  warnings.warn(\n"
          ]
        }
      ]
    }
  ]
}