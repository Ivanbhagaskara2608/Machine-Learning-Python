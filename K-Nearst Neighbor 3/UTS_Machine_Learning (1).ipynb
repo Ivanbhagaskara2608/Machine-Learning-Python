{
  "nbformat": 4,
  "nbformat_minor": 0,
  "metadata": {
    "colab": {
      "provenance": []
    },
    "kernelspec": {
      "name": "python3",
      "display_name": "Python 3"
    },
    "language_info": {
      "name": "python"
    }
  },
  "cells": [
    {
      "cell_type": "markdown",
      "source": [
        "# Mengimport library Pandas dan membaca file csv"
      ],
      "metadata": {
        "id": "KRlKJIkE7lwN"
      }
    },
    {
      "cell_type": "code",
      "execution_count": 1,
      "metadata": {
        "id": "i8P1eFZ_6cNm"
      },
      "outputs": [],
      "source": [
        "import pandas as pd\n",
        "data_test = pd.read_csv('test.csv')\n",
        "data_train = pd.read_csv('train.csv')"
      ]
    },
    {
      "cell_type": "markdown",
      "source": [
        "# Mencari 7 fitur terbaik pada data train"
      ],
      "metadata": {
        "id": "XeKq8LU4ctc8"
      }
    },
    {
      "cell_type": "code",
      "source": [
        "from sklearn.feature_selection import SelectKBest\n",
        "from sklearn.feature_selection import f_classif\n",
        "from sklearn.preprocessing import LabelEncoder\n",
        "import pandas as pd\n",
        "from sklearn.preprocessing import OneHotEncoder\n",
        "\n",
        "categorical_columns = ['Gender', 'Customer Type', 'Type of Travel', 'Class']\n",
        "# inisiasi OneHotEncoder dan LabelEncoder\n",
        "ohe = OneHotEncoder()\n",
        "le = LabelEncoder()\n",
        "# melatih model dan mentransformasi data input\n",
        "data_train['Gender'] = le.fit_transform(data_train['Gender'])\n",
        "data_train['Customer Type'] = le.fit_transform(data_train['Customer Type'])\n",
        "data_train['Type of Travel'] = le.fit_transform(data_train['Type of Travel'])\n",
        "encoded_data = ohe.fit_transform(data_train[['Class']])\n",
        "\n",
        "# mengubah menjadi DataFrame\n",
        "encoded_df = pd.DataFrame(\n",
        "    encoded_data.toarray(), \n",
        "    columns=['Business_Class', 'Eco_Class', 'Eco_Plus_Class'])\n",
        "\n",
        "# Menggabungkan kembali data yang sudah diencoding\n",
        "categorical_columns = ['Gender', 'Customer Type', 'Type of Travel', 'Class']\n",
        "features = pd.concat([data_train['Gender'], data_train['Customer Type'], data_train['Type of Travel'], encoded_df, data_train.drop(categorical_columns, axis=1)], axis=1)\n",
        "\n",
        "x = features.drop(['Satisfaction'], axis=1)\n",
        "y = features['Satisfaction']\n",
        "\n",
        "# Mengganti missing values menggunakan nilai mean\n",
        "x.fillna(x.mean(), inplace=True)\n",
        "\n",
        "# mengecek missing values dan jumlahnya\n",
        "# x.isnull().values.any()\n",
        "# x.isnull().sum().sum()\n",
        "\n",
        "# Mengaplikasikan SelectKBest untuk mencari 7 fitur terbaik\n",
        "best_features = SelectKBest(score_func=f_classif, k=7)\n",
        "fit = best_features.fit(x, y)\n",
        "# Mendapatkan 7 fitur terbaik\n",
        "# X_new = fit.transform(x)\n",
        "\n",
        "# Mendapatkan array boolean dari fitur yang didapat\n",
        "mask = fit.get_support()\n",
        "# print(mask)\n",
        "\n",
        "# Mendapatkan nama-nama fitur \n",
        "selected_features = []\n",
        "for bool, feature in zip(mask, data_train.columns):\n",
        "    if bool:\n",
        "        selected_features.append(feature)\n",
        "\n",
        "print(selected_features)"
      ],
      "metadata": {
        "colab": {
          "base_uri": "https://localhost:8080/"
        },
        "id": "rrGSEsP5cvz6",
        "outputId": "7df6577f-fb9c-477f-be16-e6a4d5f2b7b4"
      },
      "execution_count": 2,
      "outputs": [
        {
          "output_type": "stream",
          "name": "stdout",
          "text": [
            "['Age', 'Type of Travel', 'Class', 'Inflight entertainment', 'Onboard service', 'Leg room service', 'Baggage handling']\n"
          ]
        }
      ]
    },
    {
      "cell_type": "code",
      "source": [
        "print(mask)\n",
        "print(data_train.columns)"
      ],
      "metadata": {
        "colab": {
          "base_uri": "https://localhost:8080/"
        },
        "id": "2K0Gc4c-0-_B",
        "outputId": "63d20c24-740b-47f3-a726-776625ccb783"
      },
      "execution_count": 3,
      "outputs": [
        {
          "output_type": "stream",
          "name": "stdout",
          "text": [
            "[False False  True  True  True False False False False False False False\n",
            " False  True  True  True  True False False False False False False False]\n",
            "Index(['Gender', 'Customer Type', 'Age', 'Type of Travel', 'Class',\n",
            "       'Flight Distance', 'Inflight wifi service', 'Time convenient',\n",
            "       'Ease of booking', 'Gate location', 'Food and drink', 'Online boarding',\n",
            "       'Seat comfort', 'Inflight entertainment', 'Onboard service',\n",
            "       'Leg room service', 'Baggage handling', 'Checkin service',\n",
            "       'Inflight service', 'Cleanliness', 'Departure delay', 'Arrival delay',\n",
            "       'Satisfaction'],\n",
            "      dtype='object')\n"
          ]
        }
      ]
    },
    {
      "cell_type": "markdown",
      "source": [
        "# Menyimpan data fitur pada variabel \"feature_ ...\" dan data target pada variabel \"target_ ...\""
      ],
      "metadata": {
        "id": "RUYceHX680kN"
      }
    },
    {
      "cell_type": "code",
      "source": [
        "feature_train = data_train[selected_features]\n",
        "target_train = data_train['Satisfaction']\n",
        "\n",
        "feature_test = data_test[selected_features]\n",
        "target_test = data_test['Satisfaction']\n",
        "\n",
        "print(\"\\nFeature matrix : \\n\", feature_train)\n",
        "print(\"\\nResponse vector : \\n\", target_train)"
      ],
      "metadata": {
        "colab": {
          "base_uri": "https://localhost:8080/"
        },
        "id": "h7Vh0OJB810t",
        "outputId": "2db61cc1-a9dc-4b62-898b-3e8fb130e155"
      },
      "execution_count": 4,
      "outputs": [
        {
          "output_type": "stream",
          "name": "stdout",
          "text": [
            "\n",
            "Feature matrix : \n",
            "         Age  Type of Travel     Class  Inflight entertainment  \\\n",
            "0        13               1  Eco Plus                       5   \n",
            "1        25               0  Business                       1   \n",
            "2        26               0  Business                       5   \n",
            "3        25               0  Business                       2   \n",
            "4        61               0  Business                       3   \n",
            "...     ...             ...       ...                     ...   \n",
            "103899   23               0       Eco                       2   \n",
            "103900   49               0  Business                       5   \n",
            "103901   30               0  Business                       4   \n",
            "103902   22               0       Eco                       1   \n",
            "103903   27               0  Business                       1   \n",
            "\n",
            "        Onboard service  Leg room service  Baggage handling  \n",
            "0                     4                 3                 4  \n",
            "1                     1                 5                 3  \n",
            "2                     4                 3                 4  \n",
            "3                     2                 5                 3  \n",
            "4                     3                 4                 4  \n",
            "...                 ...               ...               ...  \n",
            "103899                3                 1                 4  \n",
            "103900                5                 5                 5  \n",
            "103901                3                 2                 4  \n",
            "103902                4                 5                 1  \n",
            "103903                1                 1                 4  \n",
            "\n",
            "[103904 rows x 7 columns]\n",
            "\n",
            "Response vector : \n",
            " 0         0\n",
            "1         0\n",
            "2         1\n",
            "3         0\n",
            "4         1\n",
            "         ..\n",
            "103899    0\n",
            "103900    1\n",
            "103901    0\n",
            "103902    0\n",
            "103903    0\n",
            "Name: Satisfaction, Length: 103904, dtype: int64\n"
          ]
        }
      ]
    },
    {
      "cell_type": "markdown",
      "source": [
        "# Proses encoding menggunakan OneHotEncoder"
      ],
      "metadata": {
        "id": "tlFVDAHVEHnN"
      }
    },
    {
      "cell_type": "code",
      "source": [
        "# mengubah menjadi DataFrame dan mentransformasi fitur menjadi numerik\n",
        "feature_train['Type of Travel'] = le.fit_transform(feature_train['Type of Travel'])\n",
        "encoded_data_train = pd.DataFrame(\n",
        "    ohe.fit_transform(feature_train[['Class']]).toarray(), \n",
        "    columns=['Business_Class', 'Eco_Class', 'Eco_Plus_Class'])\n",
        "\n",
        "feature_test['Type of Travel'] = le.fit_transform(feature_test['Type of Travel'])\n",
        "encoded_data_test = pd.DataFrame(\n",
        "    ohe.fit_transform(feature_test[['Class']]).toarray(), \n",
        "    columns=['Business_Class', 'Eco_Class', 'Eco_Plus_Class'])\n",
        "\n",
        "# Menggabungkan kembali data yang sudah diencoding\n",
        "data_train_final = pd.concat([feature_train['Type of Travel'], encoded_data_train, feature_train.drop(['Class', 'Type of Travel'], axis=1)], axis=1)\n",
        "data_test_final = pd.concat([feature_test['Type of Travel'], encoded_data_test, feature_test.drop(['Class', 'Type of Travel'], axis=1)], axis=1)\n",
        "\n",
        "# Mengisi missing values menggunakan nilai mean\n",
        "data_train_final.fillna(data_train_final.mean(), inplace=True)\n",
        "data_test_final.fillna(data_test_final.mean(), inplace=True)\n",
        "print(\"\\nFeature matrix : \\n\", data_train_final)"
      ],
      "metadata": {
        "colab": {
          "base_uri": "https://localhost:8080/"
        },
        "id": "yAr24eh7EMMP",
        "outputId": "fdbcae45-76ea-4764-f32e-2d1e5b2217a1"
      },
      "execution_count": 5,
      "outputs": [
        {
          "output_type": "stream",
          "name": "stdout",
          "text": [
            "\n",
            "Feature matrix : \n",
            "         Type of Travel  Business_Class  Eco_Class  Eco_Plus_Class  Age  \\\n",
            "0                    1             0.0        0.0             1.0   13   \n",
            "1                    0             1.0        0.0             0.0   25   \n",
            "2                    0             1.0        0.0             0.0   26   \n",
            "3                    0             1.0        0.0             0.0   25   \n",
            "4                    0             1.0        0.0             0.0   61   \n",
            "...                ...             ...        ...             ...  ...   \n",
            "103899               0             0.0        1.0             0.0   23   \n",
            "103900               0             1.0        0.0             0.0   49   \n",
            "103901               0             1.0        0.0             0.0   30   \n",
            "103902               0             0.0        1.0             0.0   22   \n",
            "103903               0             1.0        0.0             0.0   27   \n",
            "\n",
            "        Inflight entertainment  Onboard service  Leg room service  \\\n",
            "0                            5                4                 3   \n",
            "1                            1                1                 5   \n",
            "2                            5                4                 3   \n",
            "3                            2                2                 5   \n",
            "4                            3                3                 4   \n",
            "...                        ...              ...               ...   \n",
            "103899                       2                3                 1   \n",
            "103900                       5                5                 5   \n",
            "103901                       4                3                 2   \n",
            "103902                       1                4                 5   \n",
            "103903                       1                1                 1   \n",
            "\n",
            "        Baggage handling  \n",
            "0                      4  \n",
            "1                      3  \n",
            "2                      4  \n",
            "3                      3  \n",
            "4                      4  \n",
            "...                  ...  \n",
            "103899                 4  \n",
            "103900                 5  \n",
            "103901                 4  \n",
            "103902                 1  \n",
            "103903                 4  \n",
            "\n",
            "[103904 rows x 9 columns]\n"
          ]
        },
        {
          "output_type": "stream",
          "name": "stderr",
          "text": [
            "<ipython-input-5-8e69a7ee0130>:2: SettingWithCopyWarning: \n",
            "A value is trying to be set on a copy of a slice from a DataFrame.\n",
            "Try using .loc[row_indexer,col_indexer] = value instead\n",
            "\n",
            "See the caveats in the documentation: https://pandas.pydata.org/pandas-docs/stable/user_guide/indexing.html#returning-a-view-versus-a-copy\n",
            "  feature_train['Type of Travel'] = le.fit_transform(feature_train['Type of Travel'])\n",
            "<ipython-input-5-8e69a7ee0130>:7: SettingWithCopyWarning: \n",
            "A value is trying to be set on a copy of a slice from a DataFrame.\n",
            "Try using .loc[row_indexer,col_indexer] = value instead\n",
            "\n",
            "See the caveats in the documentation: https://pandas.pydata.org/pandas-docs/stable/user_guide/indexing.html#returning-a-view-versus-a-copy\n",
            "  feature_test['Type of Travel'] = le.fit_transform(feature_test['Type of Travel'])\n"
          ]
        }
      ]
    },
    {
      "cell_type": "markdown",
      "source": [
        "# Mencari akurasi tertinggi nilai K dengan metode KNN"
      ],
      "metadata": {
        "id": "MYGqOM1qFS7q"
      }
    },
    {
      "cell_type": "code",
      "source": [
        "from sklearn.neighbors import KNeighborsClassifier\n",
        "\n",
        "# menyimpan data fitur dan target kedalam variable\n",
        "x_test = data_test_final\n",
        "y_test = target_test\n",
        "x_train = data_train_final\n",
        "y_train = target_train\n",
        "\n",
        "k = [3, 5, 7, 9, 11]\n",
        "\n",
        "for i in k:\n",
        "    knn = KNeighborsClassifier(n_neighbors=i, metric='manhattan')\n",
        "    # melatih model\n",
        "    knn.fit(x_train, y_train)\n",
        "    # menghitung akurasi prediksi model pada data uji\n",
        "    accuracy = knn.score(x_test, y_test)\n",
        "    print(f'Akurasi KNN dengan k:{i} = {accuracy}')"
      ],
      "metadata": {
        "colab": {
          "base_uri": "https://localhost:8080/"
        },
        "id": "o7N1lV72FVVk",
        "outputId": "f88f60f0-3900-4792-81b6-3bf8b8f12675"
      },
      "execution_count": 6,
      "outputs": [
        {
          "output_type": "stream",
          "name": "stdout",
          "text": [
            "Akurasi KNN dengan k:3 = 0.8067446874037573\n",
            "Akurasi KNN dengan k:5 = 0.8184093008931321\n",
            "Akurasi KNN dengan k:7 = 0.822682476131814\n",
            "Akurasi KNN dengan k:9 = 0.8253002771789344\n",
            "Akurasi KNN dengan k:11 = 0.8262627040344934\n"
          ]
        }
      ]
    }
  ]
}